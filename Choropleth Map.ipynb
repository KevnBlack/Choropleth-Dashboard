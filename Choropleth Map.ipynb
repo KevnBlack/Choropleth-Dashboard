{
 "cells": [
  {
   "cell_type": "markdown",
   "metadata": {},
   "source": [
    "# Choropleth Map\n",
    "#### Author: Kevin Black\n",
    "#### School: [Washington State University Vancouver](https://www.vancouver.wsu.edu/)\n",
    "#### Date Created: March 30, 2020\n",
    "\n",
    "\n",
    "***\n",
    "\n",
    "### Shapefiles\n",
    "\n",
    "***\n",
    "\n",
    "### Geocoding"
   ]
  },
  {
   "cell_type": "code",
   "execution_count": 1,
   "metadata": {},
   "outputs": [
    {
     "name": "stderr",
     "output_type": "stream",
     "text": [
      "rgdal: version: 1.4-8, (SVN revision 845)\n",
      " Geospatial Data Abstraction Library extensions to R successfully loaded\n",
      " Loaded GDAL runtime: GDAL 2.2.3, released 2017/11/20\n",
      " Path to GDAL shared files: C:/Users/Kebi/Documents/R/win-library/3.6/rgdal/gdal\n",
      " GDAL binary built with GEOS: TRUE \n",
      " Loaded PROJ.4 runtime: Rel. 4.9.3, 15 August 2016, [PJ_VERSION: 493]\n",
      " Path to PROJ.4 shared files: C:/Users/Kebi/Documents/R/win-library/3.6/rgdal/proj\n",
      " Linking to sp version: 1.4-1 \n"
     ]
    }
   ],
   "source": [
    "library(sp)\n",
    "library(rgdal)"
   ]
  },
  {
   "cell_type": "code",
   "execution_count": 2,
   "metadata": {},
   "outputs": [
    {
     "name": "stdout",
     "output_type": "stream",
     "text": [
      "OGR data source with driver: ESRI Shapefile \n",
      "Source: \"C:\\Users\\Kebi\\Desktop\\Projects\\Choropleth Map\\WA_State_Boundary\", layer: \"WA_State_Boundary\"\n",
      "with 1 features\n",
      "It has 13 fields\n"
     ]
    },
    {
     "data": {
      "image/png": "[encoded data removed]",
      "text/plain": [
       "plot without title"
      ]
     },
     "metadata": {},
     "output_type": "display_data"
    }
   ],
   "source": [
    "washington = readOGR(dsn=\"./WA_State_Boundary\", layer=\"WA_State_Boundary\")\n",
    "plot(washington)"
   ]
  },
  {
   "cell_type": "code",
   "execution_count": null,
   "metadata": {},
   "outputs": [],
   "source": []
  }
 ],
 "metadata": {
  "kernelspec": {
   "display_name": "R",
   "language": "R",
   "name": "ir"
  },
  "language_info": {
   "codemirror_mode": "r",
   "file_extension": ".r",
   "mimetype": "text/x-r-source",
   "name": "R",
   "pygments_lexer": "r",
   "version": "3.6.1"
  }
 },
 "nbformat": 4,
 "nbformat_minor": 4
}
